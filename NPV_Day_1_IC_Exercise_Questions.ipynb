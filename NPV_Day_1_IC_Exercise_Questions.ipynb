{
 "cells": [
  {
   "cell_type": "markdown",
   "metadata": {
    "id": "GuFb-u9SbehT"
   },
   "source": [
    "<table align=\"left\" width=100%>\n",
    "    <tr>\n",
    "        <td width=\"20%\">\n",
    "            <img src=\"GL-2.png\">\n",
    "        </td>\n",
    "        <td>\n",
    "            <div align=\"center\">\n",
    "                <font color=\"#21618C\" size=8px>\n",
    "                  <b> Inclass - Lab <br> (Day 1) </b>\n",
    "                </font>\n",
    "            </div>\n",
    "        </td>\n",
    "    </tr>\n",
    "</table>"
   ]
  },
  {
   "cell_type": "markdown",
   "metadata": {
    "id": "jZEkUUZDbehV"
   },
   "source": [
    "##  Table of Content\n",
    "\n",
    "1. **[One Dimensional Array](#1D)**\n",
    "2. **[Two Dimensional Array](#2D)**\n",
    "3. **[Stacking](#Stacking)**\n",
    "4. **[Splitting](#Splitting)**\n",
    "5. **[For Loop](#For Loop)**"
   ]
  },
  {
   "cell_type": "markdown",
   "metadata": {
    "id": "MHPttB0tbehW"
   },
   "source": [
    "**Import the NumPy library before solving the exercises**"
   ]
  },
  {
   "cell_type": "markdown",
   "metadata": {
    "id": "L8TzYuGWbehW"
   },
   "source": [
    "### Let's begin with some hands-on practice exercises"
   ]
  },
  {
   "cell_type": "markdown",
   "metadata": {
    "id": "xfum17oYbehX"
   },
   "source": [
    "<a id=\"1D\"> </a>\n",
    "## 1. One Dimensional Array"
   ]
  },
  {
   "cell_type": "markdown",
   "metadata": {
    "id": "depCyxbdbehY"
   },
   "source": [
    "<table align=\"left\">\n",
    "    <tr>\n",
    "        <td width=\"6%\">\n",
    "            <img src=\"question_icon.png\">\n",
    "        </td>\n",
    "        <td>\n",
    "            <div align=\"left\", style=\"font-size:120%\">\n",
    "                <font color=\"#21618C\">\n",
    "                    <b>1. Write a NumPy program to convert a list of numeric values into a one-dimensional NumPy array</b>\n",
    "                </font>\n",
    "            </div>\n",
    "        </td>\n",
    "    </tr>\n",
    "</table>"
   ]
  },
  {
   "cell_type": "markdown",
   "metadata": {
    "id": "id8gb5YXbehY"
   },
   "source": [
    "**Use the list given below: (or create your own list)**<br>\n",
    "\n",
    "    list_temperature = [3.04, 1.65, 5.76, 1.66, 1.54, 4.69, 2.68]"
   ]
  },
  {
   "cell_type": "code",
   "execution_count": 1,
   "metadata": {
    "id": "E1Qm9gbsbehZ"
   },
   "outputs": [
    {
     "name": "stdout",
     "output_type": "stream",
     "text": [
      "[3.04 1.65 5.76 1.66 1.54 4.69 2.68]\n"
     ]
    }
   ],
   "source": [
    "# type your code here\n",
    "import numpy as np\n",
    "\n",
    "# Given list of numeric values\n",
    "list_temperature = [3.04, 1.65, 5.76, 1.66, 1.54, 4.69, 2.68]\n",
    "\n",
    "# Convert the list to a one-dimensional NumPy array\n",
    "temperature_array = np.array(list_temperature)\n",
    "\n",
    "# Print the resulting NumPy array\n",
    "print(temperature_array)\n"
   ]
  },
  {
   "cell_type": "markdown",
   "metadata": {
    "id": "dzppBkKlbehd"
   },
   "source": [
    "<table align=\"left\">\n",
    "    <tr>\n",
    "        <td width=\"6%\">\n",
    "            <img src=\"question_icon.png\">\n",
    "        </td>\n",
    "        <td>\n",
    "            <div align=\"left\", style=\"font-size:120%\">\n",
    "                <font color=\"#21618C\">\n",
    "                    <b>2. Create a 1D array of weights of 10 students and retrieve all the weights greater than 68</b>\n",
    "                </font>\n",
    "            </div>\n",
    "        </td>\n",
    "    </tr>\n",
    "</table>"
   ]
  },
  {
   "cell_type": "markdown",
   "metadata": {
    "id": "67NOJtMfbehd"
   },
   "source": [
    "**Use the weights given below: (or create your own list)**\n",
    "\n",
    "    weights = [74.2, 85, 74, 67.9, 52, 70.5, 86, 51.8, 64, 82]"
   ]
  },
  {
   "cell_type": "code",
   "execution_count": 2,
   "metadata": {
    "id": "EiwNG6NQbehe"
   },
   "outputs": [
    {
     "name": "stdout",
     "output_type": "stream",
     "text": [
      "[74.2 85.  74.  70.5 86.  82. ]\n"
     ]
    }
   ],
   "source": [
    "# type your code here\n",
    "import numpy as np\n",
    "\n",
    "# Given list of weights\n",
    "weights = [74.2, 85, 74, 67.9, 52, 70.5, 86, 51.8, 64, 82]\n",
    "\n",
    "# Create a one-dimensional NumPy array\n",
    "weights_array = np.array(weights)\n",
    "\n",
    "# Retrieve all weights greater than 68\n",
    "weights_greater_than_68 = weights_array[weights_array > 68]\n",
    "\n",
    "# Print the resulting array\n",
    "print(weights_greater_than_68)\n"
   ]
  },
  {
   "cell_type": "markdown",
   "metadata": {
    "id": "HBYsorFEbehh"
   },
   "source": [
    "<table align=\"left\">\n",
    "    <tr>\n",
    "        <td width=\"6%\">\n",
    "            <img src=\"question_icon.png\">\n",
    "        </td>\n",
    "        <td>\n",
    "            <div align=\"left\", style=\"font-size:120%\">\n",
    "                <font color=\"#21618C\">\n",
    "                    <b>3. Write a code to generate 10 random integers between 20 to 40 (Is it possible to generate same random numbers everytime? If yes, describe the function)\n",
    "                    </b>\n",
    "                </font>\n",
    "            </div>\n",
    "        </td>\n",
    "    </tr>\n",
    "</table>"
   ]
  },
  {
   "cell_type": "code",
   "execution_count": 3,
   "metadata": {
    "id": "wXvPOmTabehi"
   },
   "outputs": [
    {
     "name": "stdout",
     "output_type": "stream",
     "text": [
      "[26 39 34 30 27 26 38 30 30 23]\n"
     ]
    }
   ],
   "source": [
    "# type your code here\n",
    "import numpy as np\n",
    "\n",
    "# Set the random seed for reproducibility\n",
    "np.random.seed(42)\n",
    "\n",
    "# Generate 10 random integers between 20 and 40 (exclusive of 40)\n",
    "random_integers = np.random.randint(20, 40, size=10)\n",
    "\n",
    "# Print the resulting array of random integers\n",
    "print(random_integers)\n"
   ]
  },
  {
   "cell_type": "markdown",
   "metadata": {
    "id": "sgJa1pNfbehk"
   },
   "source": [
    "<table align=\"left\">\n",
    "    <tr>\n",
    "        <td width=\"6%\">\n",
    "            <img src=\"question_icon.png\">\n",
    "        </td>\n",
    "        <td>\n",
    "            <div align=\"left\", style=\"font-size:120%\">\n",
    "                <font color=\"#21618C\">\n",
    "                    <b>4. Write a program to get the fifth power of the first five positive integers\n",
    "                    </b>\n",
    "                </font>\n",
    "            </div>\n",
    "        </td>\n",
    "    </tr>\n",
    "</table>"
   ]
  },
  {
   "cell_type": "code",
   "execution_count": 4,
   "metadata": {
    "id": "H2B6tOvDbehl"
   },
   "outputs": [
    {
     "name": "stdout",
     "output_type": "stream",
     "text": [
      "[   1   32  243 1024 3125]\n"
     ]
    }
   ],
   "source": [
    "# type your code here\n",
    "import numpy as np\n",
    "\n",
    "# Create an array of the first five positive integers\n",
    "first_five_integers = np.array([1, 2, 3, 4, 5])\n",
    "\n",
    "# Calculate the fifth power of these integers\n",
    "fifth_power = first_five_integers ** 5\n",
    "\n",
    "# Print the resulting array\n",
    "print(fifth_power)\n"
   ]
  },
  {
   "cell_type": "markdown",
   "metadata": {
    "id": "aQkkjqDZbeho"
   },
   "source": [
    "<table align=\"left\">\n",
    "    <tr>\n",
    "        <td width=\"6%\">\n",
    "            <img src=\"question_icon.png\">\n",
    "        </td>\n",
    "        <td>\n",
    "            <div align=\"left\", style=\"font-size:120%\">\n",
    "                <font color=\"#21618C\">\n",
    "                    <b>5. Write a program to create an array of all the odd integers from 50 to 100 \n",
    "                    </b>\n",
    "                </font>\n",
    "            </div>\n",
    "        </td>\n",
    "    </tr>\n",
    "</table>"
   ]
  },
  {
   "cell_type": "code",
   "execution_count": 5,
   "metadata": {
    "id": "Qpt-pf1Cbeho"
   },
   "outputs": [
    {
     "name": "stdout",
     "output_type": "stream",
     "text": [
      "[51 53 55 57 59 61 63 65 67 69 71 73 75 77 79 81 83 85 87 89 91 93 95 97\n",
      " 99]\n"
     ]
    }
   ],
   "source": [
    "# type your code here\n",
    "import numpy as np\n",
    "\n",
    "# Create an array of integers from 50 to 100\n",
    "numbers = np.arange(50, 101)\n",
    "\n",
    "# Filter to get only odd integers\n",
    "odd_integers = numbers[numbers % 2 != 0]\n",
    "\n",
    "# Print the resulting array of odd integers\n",
    "print(odd_integers)\n"
   ]
  },
  {
   "cell_type": "markdown",
   "metadata": {
    "id": "q5Xzt47hbehr"
   },
   "source": [
    "<table align=\"left\">\n",
    "    <tr>\n",
    "        <td width=\"6%\">\n",
    "            <img src=\"question_icon.png\">\n",
    "        </td>\n",
    "        <td>\n",
    "            <div align=\"left\", style=\"font-size:120%\">\n",
    "                <font color=\"#21618C\">\n",
    "                    <b>6. Write a program to calculate the sum of each column </b>\n",
    "                </font>\n",
    "            </div>\n",
    "        </td>\n",
    "    </tr>\n",
    "</table>"
   ]
  },
  {
   "cell_type": "markdown",
   "metadata": {
    "id": "ytP3e0lubehs"
   },
   "source": [
    "**Use the array given below: (or create your own array)**\n",
    "\n",
    "    A = [[1, 4, 8], [5, 7, 3], [9, 14, 2]]"
   ]
  },
  {
   "cell_type": "code",
   "execution_count": 6,
   "metadata": {
    "id": "OhKSiWJFbehs"
   },
   "outputs": [
    {
     "name": "stdout",
     "output_type": "stream",
     "text": [
      "[15 25 13]\n"
     ]
    }
   ],
   "source": [
    "# type your code here\n",
    "import numpy as np\n",
    "\n",
    "# Given 2D array\n",
    "A = [[1, 4, 8], [5, 7, 3], [9, 14, 2]]\n",
    "\n",
    "# Convert the list to a NumPy array\n",
    "A_array = np.array(A)\n",
    "\n",
    "# Calculate the sum of each column\n",
    "column_sums = np.sum(A_array, axis=0)\n",
    "\n",
    "# Print the resulting sums\n",
    "print(column_sums)\n"
   ]
  },
  {
   "cell_type": "markdown",
   "metadata": {
    "id": "_Ll-br2qbehv"
   },
   "source": [
    "<table align=\"left\">\n",
    "    <tr>\n",
    "        <td width=\"6%\">\n",
    "            <img src=\"question_icon.png\">\n",
    "        </td>\n",
    "        <td>\n",
    "            <div align=\"left\", style=\"font-size:120%\">\n",
    "                <font color=\"#21618C\">\n",
    "                    <b>7. Write a code to get the element-wise remainder of an array after division by 8 \n",
    "                    </b>\n",
    "                </font>\n",
    "            </div>\n",
    "        </td>\n",
    "    </tr>\n",
    "</table>"
   ]
  },
  {
   "cell_type": "markdown",
   "metadata": {
    "id": "Rxa4HT3Obehv"
   },
   "source": [
    "**Use the list given below:**<br>\n",
    "    \n",
    "    num = [42, 87, 90, 14, 32, 75, 61, 80, 92]"
   ]
  },
  {
   "cell_type": "code",
   "execution_count": 7,
   "metadata": {
    "id": "GWQxTmdMbehw"
   },
   "outputs": [
    {
     "name": "stdout",
     "output_type": "stream",
     "text": [
      "[2 7 2 6 0 3 5 0 4]\n"
     ]
    }
   ],
   "source": [
    "# type your code here\n",
    "import numpy as np\n",
    "\n",
    "# Given list of numbers\n",
    "num = [42, 87, 90, 14, 32, 75, 61, 80, 92]\n",
    "\n",
    "# Convert the list to a NumPy array\n",
    "num_array = np.array(num)\n",
    "\n",
    "# Get the element-wise remainder after division by 8\n",
    "remainders = num_array % 8\n",
    "\n",
    "# Print the resulting remainders\n",
    "print(remainders)\n"
   ]
  },
  {
   "cell_type": "markdown",
   "metadata": {
    "id": "cCPkpHF6behy"
   },
   "source": [
    "<a id=\"2D\"> </a>\n",
    "## 2. Two Dimensional Array"
   ]
  },
  {
   "cell_type": "markdown",
   "metadata": {
    "id": "mdnO5naVbehy"
   },
   "source": [
    "<table align=\"left\">\n",
    "    <tr>\n",
    "        <td width=\"6%\">\n",
    "            <img src=\"question_icon.png\">\n",
    "        </td>\n",
    "        <td>\n",
    "            <div align=\"left\", style=\"font-size:120%\">\n",
    "                <font color=\"#21618C\">\n",
    "                    <b>8. Create a 2D numpy array from a 1D array of 20 elements of your choice. Further, subset the first 5 elements from the second element of a resulting 2D array \n",
    "                    </b>\n",
    "                </font>\n",
    "            </div>\n",
    "        </td>\n",
    "    </tr>\n",
    "</table>"
   ]
  },
  {
   "cell_type": "code",
   "execution_count": 8,
   "metadata": {
    "id": "PJi7HXVSbehz"
   },
   "outputs": [
    {
     "name": "stdout",
     "output_type": "stream",
     "text": [
      "2D Array:\n",
      "[[ 1  2  3  4  5]\n",
      " [ 6  7  8  9 10]\n",
      " [11 12 13 14 15]\n",
      " [16 17 18 19 20]]\n",
      "Subset of the first 5 elements from the second row:\n",
      "[ 6  7  8  9 10]\n"
     ]
    }
   ],
   "source": [
    "# type your code here\n",
    "import numpy as np\n",
    "\n",
    "# Create a 1D array of 20 elements\n",
    "one_d_array = np.arange(1, 21)  # You can choose any 20 elements; here, I'm using 1 to 20\n",
    "\n",
    "# Reshape the 1D array into a 2D array (for example, 4 rows and 5 columns)\n",
    "two_d_array = one_d_array.reshape(4, 5)\n",
    "\n",
    "# Print the resulting 2D array\n",
    "print(\"2D Array:\")\n",
    "print(two_d_array)\n",
    "\n",
    "# Subset the first 5 elements from the second row (index 1)\n",
    "subset = two_d_array[1, :5]\n",
    "\n",
    "# Print the subset\n",
    "print(\"Subset of the first 5 elements from the second row:\")\n",
    "print(subset)\n"
   ]
  },
  {
   "cell_type": "markdown",
   "metadata": {
    "id": "NGZISX4wbeh4"
   },
   "source": [
    "<table align=\"left\">\n",
    "    <tr>\n",
    "        <td width=\"6%\">\n",
    "            <img src=\"question_icon.png\">\n",
    "        </td>\n",
    "        <td>\n",
    "            <div align=\"left\", style=\"font-size:120%\">\n",
    "                <font color=\"#21618C\">\n",
    "                    <b>9. Write a program to find common values between two arrays \n",
    "                    </b>\n",
    "                </font>\n",
    "            </div>\n",
    "        </td>\n",
    "    </tr>\n",
    "</table>"
   ]
  },
  {
   "cell_type": "markdown",
   "metadata": {
    "id": "M-SEltsQbeh5"
   },
   "source": [
    "**Use the lists given below:**<br>\n",
    "\n",
    "    prices_monday = [10, 30, 50, 60, 90]\n",
    "\n",
    "    prices_tuesday = [50, 20, 80, 125, 10, 70]"
   ]
  },
  {
   "cell_type": "code",
   "execution_count": 9,
   "metadata": {
    "id": "oPKuRQNxbeh5"
   },
   "outputs": [
    {
     "name": "stdout",
     "output_type": "stream",
     "text": [
      "Common values between the two arrays:\n",
      "[10 50]\n"
     ]
    }
   ],
   "source": [
    "# type your code here\n",
    "import numpy as np\n",
    "\n",
    "# Given lists of prices\n",
    "prices_monday = [10, 30, 50, 60, 90]\n",
    "prices_tuesday = [50, 20, 80, 125, 10, 70]\n",
    "\n",
    "# Convert the lists to NumPy arrays\n",
    "monday_array = np.array(prices_monday)\n",
    "tuesday_array = np.array(prices_tuesday)\n",
    "\n",
    "# Find common values between the two arrays\n",
    "common_values = np.intersect1d(monday_array, tuesday_array)\n",
    "\n",
    "# Print the common values\n",
    "print(\"Common values between the two arrays:\")\n",
    "print(common_values)\n"
   ]
  },
  {
   "cell_type": "markdown",
   "metadata": {
    "id": "7IAO_XIgbeh8"
   },
   "source": [
    "<table align=\"left\">\n",
    "    <tr>\n",
    "        <td width=\"6%\">\n",
    "            <img src=\"question_icon.png\">\n",
    "        </td>\n",
    "        <td>\n",
    "            <div align=\"left\", style=\"font-size:120%\">\n",
    "                <font color=\"#21618C\">\n",
    "                    <b>10. Write a program to find BMI of the patients whose height and weight is provided in the list given below \n",
    "                    </b>\n",
    "                </font>\n",
    "            </div>\n",
    "        </td>\n",
    "    </tr>\n",
    "</table>"
   ]
  },
  {
   "cell_type": "markdown",
   "metadata": {
    "id": "0hd186vdbeh8"
   },
   "source": [
    "**Use the lists given below:**<br>\n",
    "\n",
    "    list of weights (in kg)\n",
    "    weights = [57, 69, 54, 65 ,71, 62, 56]\n",
    "\n",
    "    list of heights (in m)<br>\n",
    "    heights = [1.59, 1.75, 1.66, 1.74, 1.64, 1.72, 1.53] "
   ]
  },
  {
   "cell_type": "code",
   "execution_count": 10,
   "metadata": {
    "id": "pak7zb0nbeh9"
   },
   "outputs": [
    {
     "name": "stdout",
     "output_type": "stream",
     "text": [
      "Patient 1: BMI = 22.55\n",
      "Patient 2: BMI = 22.53\n",
      "Patient 3: BMI = 19.60\n",
      "Patient 4: BMI = 21.47\n",
      "Patient 5: BMI = 26.40\n",
      "Patient 6: BMI = 20.96\n",
      "Patient 7: BMI = 23.92\n"
     ]
    }
   ],
   "source": [
    "# type your code here\n",
    "# List of weights in kg\n",
    "weights = [57, 69, 54, 65, 71, 62, 56]\n",
    "\n",
    "# List of heights in meters\n",
    "heights = [1.59, 1.75, 1.66, 1.74, 1.64, 1.72, 1.53]\n",
    "\n",
    "# Function to calculate BMI\n",
    "def calculate_bmi(weights, heights):\n",
    "    bmi_list = []\n",
    "    for weight, height in zip(weights, heights):\n",
    "        bmi = weight / (height ** 2)\n",
    "        bmi_list.append(bmi)\n",
    "    return bmi_list\n",
    "\n",
    "# Calculate and print the BMI for each patient\n",
    "bmi_results = calculate_bmi(weights, heights)\n",
    "\n",
    "for index, bmi in enumerate(bmi_results):\n",
    "    print(f\"Patient {index + 1}: BMI = {bmi:.2f}\")\n"
   ]
  },
  {
   "cell_type": "markdown",
   "metadata": {
    "id": "ec1kOlTSbeh_"
   },
   "source": [
    "<table align=\"left\">\n",
    "    <tr>\n",
    "        <td width=\"6%\">\n",
    "            <img src=\"question_icon.png\">\n",
    "        </td>\n",
    "        <td>\n",
    "            <div align=\"left\", style=\"font-size:120%\">\n",
    "                <font color=\"#21618C\">\n",
    "                    <b>11. Write a program to add a new column ([5,7]) at the last position in the array given below \n",
    "                    </b>\n",
    "                </font>\n",
    "            </div>\n",
    "        </td>\n",
    "    </tr>\n",
    "</table>"
   ]
  },
  {
   "cell_type": "markdown",
   "metadata": {
    "id": "74rcorbKbeh_"
   },
   "source": [
    "**Use the array given below:**\n",
    "\n",
    "    array1 = [[[3, 4], [8, 2],[5, 9]]]"
   ]
  },
  {
   "cell_type": "code",
   "execution_count": 13,
   "metadata": {},
   "outputs": [
    {
     "name": "stdout",
     "output_type": "stream",
     "text": [
      "Updated Array:\n",
      "[[[3 4]\n",
      "  [8 2]\n",
      "  [5 9]\n",
      "  [5 7]]]\n"
     ]
    }
   ],
   "source": [
    "import numpy as np\n",
    "\n",
    "# Given array\n",
    "array1 = np.array([[[3, 4], [8, 2], [5, 9]]])\n",
    "\n",
    "# New column to be added\n",
    "new_column = np.array([[5, 7]])\n",
    "\n",
    "# Reshape the new column to match the existing array's structure\n",
    "new_column_reshaped = new_column.reshape(1, 1, 2)\n",
    "\n",
    "# Concatenate the new column at the last position\n",
    "updated_array = np.concatenate((array1, new_column_reshaped), axis=1)\n",
    "\n",
    "# Print the updated array\n",
    "print(\"Updated Array:\")\n",
    "print(updated_array)\n"
   ]
  },
  {
   "cell_type": "markdown",
   "metadata": {
    "id": "LlOzsXogbeiC"
   },
   "source": [
    "<table align=\"left\">\n",
    "    <tr>\n",
    "        <td width=\"6%\">\n",
    "            <img src=\"question_icon.png\">\n",
    "        </td>\n",
    "        <td>\n",
    "            <div align=\"left\", style=\"font-size:120%\">\n",
    "                <font color=\"#21618C\">\n",
    "                    <b>12. Write a code to print the identity matrix of order 5</b>\n",
    "                </font>\n",
    "            </div>\n",
    "        </td>\n",
    "    </tr>\n",
    "</table>"
   ]
  },
  {
   "cell_type": "code",
   "execution_count": 14,
   "metadata": {
    "id": "ZJh7inO1beiC"
   },
   "outputs": [
    {
     "name": "stdout",
     "output_type": "stream",
     "text": [
      "Identity Matrix of Order 5:\n",
      "[[1. 0. 0. 0. 0.]\n",
      " [0. 1. 0. 0. 0.]\n",
      " [0. 0. 1. 0. 0.]\n",
      " [0. 0. 0. 1. 0.]\n",
      " [0. 0. 0. 0. 1.]]\n"
     ]
    }
   ],
   "source": [
    "# type your code here\n",
    "import numpy as np\n",
    "\n",
    "# Create an identity matrix of order 5\n",
    "identity_matrix = np.eye(5)\n",
    "\n",
    "# Print the identity matrix\n",
    "print(\"Identity Matrix of Order 5:\")\n",
    "print(identity_matrix)\n"
   ]
  },
  {
   "cell_type": "markdown",
   "metadata": {
    "id": "aFajPHw0beiE"
   },
   "source": [
    "<table align=\"left\">\n",
    "    <tr>\n",
    "        <td width=\"6%\">\n",
    "            <img src=\"question_icon.png\">\n",
    "        </td>\n",
    "        <td>\n",
    "            <div align=\"left\", style=\"font-size:120%\">\n",
    "                <font color=\"#21618C\">\n",
    "                    <b>13. Write a program to transpose a matrix \n",
    "                    </b>\n",
    "                </font>\n",
    "            </div>\n",
    "        </td>\n",
    "    </tr>\n",
    "</table>"
   ]
  },
  {
   "cell_type": "markdown",
   "metadata": {
    "id": "FDsZ9zD6beiE"
   },
   "source": [
    "**Use the matrix given below:**\n",
    "    \n",
    "    M = [[15, 17, 45, 56], [7, 42, 15, 63], [54, 3, 61, 41], [0, 87, 16, 20]]"
   ]
  },
  {
   "cell_type": "code",
   "execution_count": 15,
   "metadata": {
    "id": "vQkvDxk1beiF"
   },
   "outputs": [
    {
     "name": "stdout",
     "output_type": "stream",
     "text": [
      "Transposed Matrix:\n",
      "[[15  7 54  0]\n",
      " [17 42  3 87]\n",
      " [45 15 61 16]\n",
      " [56 63 41 20]]\n"
     ]
    }
   ],
   "source": [
    "# type your code here\n",
    "import numpy as np\n",
    "\n",
    "# Given matrix\n",
    "M = [[15, 17, 45, 56], \n",
    "     [7, 42, 15, 63], \n",
    "     [54, 3, 61, 41], \n",
    "     [0, 87, 16, 20]]\n",
    "\n",
    "# Convert the matrix to a NumPy array\n",
    "matrix = np.array(M)\n",
    "\n",
    "# Transpose the matrix\n",
    "transposed_matrix = matrix.T\n",
    "\n",
    "# Print the transposed matrix\n",
    "print(\"Transposed Matrix:\")\n",
    "print(transposed_matrix)\n"
   ]
  },
  {
   "cell_type": "markdown",
   "metadata": {
    "id": "ocSa1c5zbeiH"
   },
   "source": [
    "<a id=\"Stacking\"> </a>\n",
    "## 3. Stacking"
   ]
  },
  {
   "cell_type": "markdown",
   "metadata": {
    "id": "GJzjoAASbeiJ"
   },
   "source": [
    "<table align=\"left\">\n",
    "    <tr>\n",
    "        <td width=\"6%\">\n",
    "            <img src=\"question_icon.png\">\n",
    "        </td>\n",
    "        <td>\n",
    "            <div align=\"left\", style=\"font-size:120%\">\n",
    "                <font color=\"#21618C\">\n",
    "                    <b>14. Write a program to combine the two arrays vertically</b>\n",
    "                </font>\n",
    "            </div>\n",
    "        </td>\n",
    "    </tr>\n",
    "</table>"
   ]
  },
  {
   "cell_type": "markdown",
   "metadata": {
    "id": "A4V3JmW4beiJ"
   },
   "source": [
    "**Use the arrays given below: (or create your own array)**<br>\n",
    "\n",
    "    A1 = [[5, 9], [7, 6]]\n",
    "\n",
    "    A2 = [[8,-7], [0,4]]\n",
    "\n",
    "Combine the array A2 with A1"
   ]
  },
  {
   "cell_type": "code",
   "execution_count": 16,
   "metadata": {
    "id": "urVo4cp4beiK"
   },
   "outputs": [
    {
     "name": "stdout",
     "output_type": "stream",
     "text": [
      "Combined Array:\n",
      "[[ 5  9]\n",
      " [ 7  6]\n",
      " [ 8 -7]\n",
      " [ 0  4]]\n"
     ]
    }
   ],
   "source": [
    "# type your code here\n",
    "import numpy as np\n",
    "\n",
    "# Define the arrays\n",
    "A1 = [[5, 9], [7, 6]]\n",
    "A2 = [[8, -7], [0, 4]]\n",
    "\n",
    "# Convert the lists to NumPy arrays\n",
    "array1 = np.array(A1)\n",
    "array2 = np.array(A2)\n",
    "\n",
    "# Combine the arrays vertically\n",
    "combined_array = np.vstack((array1, array2))\n",
    "\n",
    "# Print the combined array\n",
    "print(\"Combined Array:\")\n",
    "print(combined_array)\n"
   ]
  },
  {
   "cell_type": "markdown",
   "metadata": {
    "id": "RhdRGMQ9beiM"
   },
   "source": [
    "<table align=\"left\">\n",
    "    <tr>\n",
    "        <td width=\"6%\">\n",
    "            <img src=\"question_icon.png\">\n",
    "        </td>\n",
    "        <td>\n",
    "            <div align=\"left\", style=\"font-size:120%\">\n",
    "                <font color=\"#21618C\">\n",
    "                    <b>15. Write a code to combine the two arrays horizontally</b>\n",
    "                </font>\n",
    "            </div>\n",
    "        </td>\n",
    "    </tr>\n",
    "</table>"
   ]
  },
  {
   "cell_type": "markdown",
   "metadata": {
    "id": "a6Ns43vebeiM"
   },
   "source": [
    "**Use the arrays given below: (or create your own array)**\n",
    "\n",
    "    A1 = [[-81, 75, 40], [27, 67, 52]]\n",
    "\n",
    "    A2 = [[15, 54], [39, 56]]\n",
    "\n",
    "Combine the array A2 with A1"
   ]
  },
  {
   "cell_type": "code",
   "execution_count": 17,
   "metadata": {
    "id": "w640e_vMbeiN"
   },
   "outputs": [
    {
     "name": "stdout",
     "output_type": "stream",
     "text": [
      "Combined Array:\n",
      "[[-81  75  40  15  54]\n",
      " [ 27  67  52  39  56]]\n"
     ]
    }
   ],
   "source": [
    "# type your code here\n",
    "import numpy as np\n",
    "\n",
    "# Define the arrays\n",
    "A1 = [[-81, 75, 40], [27, 67, 52]]\n",
    "A2 = [[15, 54], [39, 56]]\n",
    "\n",
    "# Convert the lists to NumPy arrays\n",
    "array1 = np.array(A1)\n",
    "array2 = np.array(A2)\n",
    "\n",
    "# Combine the arrays horizontally\n",
    "combined_array = np.hstack((array1, array2))\n",
    "\n",
    "# Print the combined array\n",
    "print(\"Combined Array:\")\n",
    "print(combined_array)\n"
   ]
  },
  {
   "cell_type": "markdown",
   "metadata": {
    "id": "rJoFdILPbeiP"
   },
   "source": [
    "<a id=\"Splitting\"> </a>\n",
    "## 4. Splitting"
   ]
  },
  {
   "cell_type": "markdown",
   "metadata": {
    "id": "MImHyrD4beiQ"
   },
   "source": [
    "<table align=\"left\">\n",
    "    <tr>\n",
    "        <td width=\"6%\">\n",
    "            <img src=\"question_icon.png\">\n",
    "        </td>\n",
    "        <td>\n",
    "            <div align=\"left\", style=\"font-size:120%\">\n",
    "                <font color=\"#21618C\">\n",
    "                    <b>16. Write a code to divide the array into three sub-arrays containing\n",
    "                       equal number of rows</b>\n",
    "                </font>\n",
    "            </div>\n",
    "        </td>\n",
    "    </tr>\n",
    "</table>"
   ]
  },
  {
   "cell_type": "markdown",
   "metadata": {
    "id": "qRNYzdgGbeiQ"
   },
   "source": [
    "**Use the array given below:**<br>\n",
    "\n",
    "    A = [[4, 7], [2, -3], [8, 1], [0, 9], [5,-1], [8, 3]]"
   ]
  },
  {
   "cell_type": "code",
   "execution_count": 18,
   "metadata": {
    "id": "IDQemShwbeiQ"
   },
   "outputs": [
    {
     "name": "stdout",
     "output_type": "stream",
     "text": [
      "Sub-array 1:\n",
      "[[ 4  7]\n",
      " [ 2 -3]]\n",
      "\n",
      "Sub-array 2:\n",
      "[[8 1]\n",
      " [0 9]]\n",
      "\n",
      "Sub-array 3:\n",
      "[[ 5 -1]\n",
      " [ 8  3]]\n"
     ]
    }
   ],
   "source": [
    "# type your code here\n",
    "import numpy as np\n",
    "\n",
    "# Define the array\n",
    "A = [[4, 7], [2, -3], [8, 1], [0, 9], [5, -1], [8, 3]]\n",
    "\n",
    "# Convert the list to a NumPy array\n",
    "array = np.array(A)\n",
    "\n",
    "# Calculate the number of rows for each sub-array\n",
    "rows_per_subarray = array.shape[0] // 3\n",
    "\n",
    "# Create sub-arrays\n",
    "sub_array1 = array[:rows_per_subarray]\n",
    "sub_array2 = array[rows_per_subarray:2*rows_per_subarray]\n",
    "sub_array3 = array[2*rows_per_subarray:]\n",
    "\n",
    "# Print the sub-arrays\n",
    "print(\"Sub-array 1:\")\n",
    "print(sub_array1)\n",
    "\n",
    "print(\"\\nSub-array 2:\")\n",
    "print(sub_array2)\n",
    "\n",
    "print(\"\\nSub-array 3:\")\n",
    "print(sub_array3)\n"
   ]
  },
  {
   "cell_type": "markdown",
   "metadata": {
    "id": "shQHWLIHbeiT"
   },
   "source": [
    "<table align=\"left\">\n",
    "    <tr>\n",
    "        <td width=\"6%\">\n",
    "            <img src=\"question_icon.png\">\n",
    "        </td>\n",
    "        <td>\n",
    "            <div align=\"left\", style=\"font-size:120%\">\n",
    "                <font color=\"#21618C\">\n",
    "                    <b>17. Write a program to divide the array into two sub-arrays containing equal number of columns\n",
    "                    </b>\n",
    "                </font>\n",
    "            </div>\n",
    "        </td>\n",
    "    </tr>\n",
    "</table>"
   ]
  },
  {
   "cell_type": "markdown",
   "metadata": {
    "id": "yU-xkFPvbeiT"
   },
   "source": [
    "**Use the array given below:**\n",
    "\n",
    "    B = [[8, 7, 0, 9], [2, -3, 5, 10], [8, 5, -1,3]]"
   ]
  },
  {
   "cell_type": "code",
   "execution_count": 19,
   "metadata": {
    "id": "qamvSdNAbeiU"
   },
   "outputs": [
    {
     "name": "stdout",
     "output_type": "stream",
     "text": [
      "Sub-array 1:\n",
      "[[ 8  7]\n",
      " [ 2 -3]\n",
      " [ 8  5]]\n",
      "\n",
      "Sub-array 2:\n",
      "[[ 0  9]\n",
      " [ 5 10]\n",
      " [-1  3]]\n"
     ]
    }
   ],
   "source": [
    "# type your code here\n",
    "import numpy as np\n",
    "\n",
    "# Define the array\n",
    "B = [[8, 7, 0, 9], [2, -3, 5, 10], [8, 5, -1, 3]]\n",
    "\n",
    "# Convert the list to a NumPy array\n",
    "array = np.array(B)\n",
    "\n",
    "# Calculate the number of columns for each sub-array\n",
    "cols_per_subarray = array.shape[1] // 2\n",
    "\n",
    "# Create sub-arrays\n",
    "sub_array1 = array[:, :cols_per_subarray]\n",
    "sub_array2 = array[:, cols_per_subarray:]\n",
    "\n",
    "# Print the sub-arrays\n",
    "print(\"Sub-array 1:\")\n",
    "print(sub_array1)\n",
    "\n",
    "print(\"\\nSub-array 2:\")\n",
    "print(sub_array2)\n"
   ]
  },
  {
   "cell_type": "markdown",
   "metadata": {
    "id": "j7If6FtkbeiW"
   },
   "source": [
    "<a id=\"loop\"> </a>\n",
    "## 5. For Loop"
   ]
  },
  {
   "cell_type": "markdown",
   "metadata": {
    "id": "hQnJS7ZmbeiX"
   },
   "source": [
    "<table align=\"left\">\n",
    "    <tr>\n",
    "        <td width=\"6%\">\n",
    "            <img src=\"question_icon.png\">\n",
    "        </td>\n",
    "        <td>\n",
    "            <div align=\"left\", style=\"font-size:120%\">\n",
    "                <font color=\"#21618C\">\n",
    "                    <b>18. Write a program to perform one-to-one mapping of the two lists</b>\n",
    "                </font>\n",
    "            </div>\n",
    "        </td>\n",
    "    </tr>\n",
    "</table>"
   ]
  },
  {
   "cell_type": "markdown",
   "metadata": {
    "id": "894hNtHwbeiX"
   },
   "source": [
    "**Use the lists given below: (or create your own lists)**<br>\n",
    "\n",
    "    L1 = [45, 67, 56, 71, 54, 62, 56]\n",
    "\n",
    "    L2 = [21, 52, 64, 10, 49, 74, 26]"
   ]
  },
  {
   "cell_type": "code",
   "execution_count": 20,
   "metadata": {
    "id": "Ned5rRarbeiX"
   },
   "outputs": [
    {
     "name": "stdout",
     "output_type": "stream",
     "text": [
      "One-to-One Mapping:\n",
      "{45: 21, 67: 52, 56: 26, 71: 10, 54: 49, 62: 74}\n"
     ]
    }
   ],
   "source": [
    "# type your code here\n",
    "# Given lists\n",
    "L1 = [45, 67, 56, 71, 54, 62, 56]\n",
    "L2 = [21, 52, 64, 10, 49, 74, 26]\n",
    "\n",
    "# Create a one-to-one mapping using a dictionary\n",
    "one_to_one_mapping = dict(zip(L1, L2))\n",
    "\n",
    "# Print the resulting mapping\n",
    "print(\"One-to-One Mapping:\")\n",
    "print(one_to_one_mapping)\n"
   ]
  },
  {
   "cell_type": "markdown",
   "metadata": {
    "id": "y1Euz_mMbeib"
   },
   "source": [
    "<table align=\"left\">\n",
    "    <tr>\n",
    "        <td width=\"6%\">\n",
    "            <img src=\"question_icon.png\">\n",
    "        </td>\n",
    "        <td>\n",
    "            <div align=\"left\", style=\"font-size:120%\">\n",
    "                <font color=\"#21618C\">\n",
    "                    <b>19. Define a for loop to apply the function (2x-1)/(x+5) on every element of an array </b>\n",
    "                </font>\n",
    "            </div>\n",
    "        </td>\n",
    "    </tr>\n",
    "</table>"
   ]
  },
  {
   "cell_type": "markdown",
   "metadata": {
    "id": "wEbUS--hbeib"
   },
   "source": [
    "**Use the list given below:**\n",
    "    \n",
    "    numbers = [6, 5, 3, 15]"
   ]
  },
  {
   "cell_type": "code",
   "execution_count": 21,
   "metadata": {
    "id": "hUmj2ep8beib"
   },
   "outputs": [
    {
     "name": "stdout",
     "output_type": "stream",
     "text": [
      "Results:\n",
      "[1.0, 0.9, 0.625, 1.45]\n"
     ]
    }
   ],
   "source": [
    "# type your code here\n",
    "# Given list\n",
    "numbers = [6, 5, 3, 15]\n",
    "\n",
    "# Define the function\n",
    "def apply_function(x):\n",
    "    return (2 * x - 1) / (x + 5)\n",
    "\n",
    "# Apply the function using a for loop\n",
    "results = []\n",
    "for num in numbers:\n",
    "    result = apply_function(num)\n",
    "    results.append(result)\n",
    "\n",
    "# Print the results\n",
    "print(\"Results:\")\n",
    "print(results)\n"
   ]
  }
 ],
 "metadata": {
  "colab": {
   "collapsed_sections": [
    "cCPkpHF6behy",
    "ocSa1c5zbeiH",
    "rJoFdILPbeiP",
    "j7If6FtkbeiW"
   ],
   "name": "NPV-Day 1_IC Exercise-Questions.ipynb",
   "provenance": []
  },
  "kernelspec": {
   "display_name": "Python 3 (ipykernel)",
   "language": "python",
   "name": "python3"
  },
  "language_info": {
   "codemirror_mode": {
    "name": "ipython",
    "version": 3
   },
   "file_extension": ".py",
   "mimetype": "text/x-python",
   "name": "python",
   "nbconvert_exporter": "python",
   "pygments_lexer": "ipython3",
   "version": "3.11.5"
  },
  "widgets": {
   "application/vnd.jupyter.widget-state+json": {
    "state": {},
    "version_major": 2,
    "version_minor": 0
   }
  }
 },
 "nbformat": 4,
 "nbformat_minor": 4
}
